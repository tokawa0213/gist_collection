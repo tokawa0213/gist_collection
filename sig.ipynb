{
  "cells": [
    {
      "cell_type": "markdown",
      "source": [
        "### Signate Competition using XGBRegressor\n",
        "#### Predicting the number of audience form the given data"
      ],
      "metadata": {}
    },
    {
      "cell_type": "markdown",
      "source": [
        "### Below will be setting for using this in Google collaboratory\n",
        "#### Save all the files to ./signate folder"
      ],
      "metadata": {}
    },
    {
      "cell_type": "code",
      "source": [
        "import os\n",
        "\n",
        "from google.colab import drive\n",
        "drive.mount('/content/drive')\n",
        "\nos.chdir(\"drive/My Drive/signate\")"
      ],
      "outputs": [],
      "execution_count": null,
      "metadata": {
        "colab": {},
        "colab_type": "code",
        "id": "xYVtCXvP7X2o"
      }
    },
    {
      "cell_type": "code",
      "source": [
        "!ls"
      ],
      "outputs": [],
      "execution_count": null,
      "metadata": {
        "colab": {},
        "colab_type": "code",
        "id": "GgNNYiIkcNY7"
      }
    },
    {
      "cell_type": "markdown",
      "source": [
        "取り敢えず、与えられているcsvファイルをDataFrameとして読み込む。"
      ],
      "metadata": {
        "colab_type": "text",
        "id": "5Kop6TaNezSm"
      }
    },
    {
      "cell_type": "code",
      "source": [
        "import pandas as pd\n",
        "\n",
        "def nan_checker(df):\n",
        "    if sum(df.isnull()) > 0 :\n",
        "        return False\n",
        "    else:\n",
        "        return True\n",
        "\n",
        "df_holiday = pd.read_csv(\"holidays_in_japan.csv\")\n",
        "df_train = pd.read_csv(\"train.csv\")\n",
        "df_test = pd.read_csv(\"test.csv\")\n",
        "df_mapping = pd.read_csv(\"stadium_capacity_mapping.csv\")\n",
        "df_match = pd.read_csv(\"match_reports.csv\")\n",
        "df_sample = pd.read_csv(\"sample_submit.csv\")"
      ],
      "outputs": [],
      "execution_count": 1,
      "metadata": {
        "colab": {},
        "colab_type": "code",
        "id": "Y1e5PGI5c5LW"
      }
    },
    {
      "cell_type": "markdown",
      "source": [
        "各DataFrameの先頭５行を確認"
      ],
      "metadata": {
        "colab": {},
        "colab_type": "code",
        "id": "m5Ld_HKbe91u"
      }
    },
    {
      "cell_type": "code",
      "source": [
        "df_holiday.head()"
      ],
      "outputs": [],
      "execution_count": null,
      "metadata": {
        "colab": {},
        "colab_type": "code",
        "id": "Zp67Xvyhc5Ov"
      }
    },
    {
      "cell_type": "code",
      "source": [
        "df_train.head()"
      ],
      "outputs": [],
      "execution_count": null,
      "metadata": {
        "colab": {},
        "colab_type": "code",
        "id": "t_TEJET5c5SY"
      }
    },
    {
      "cell_type": "code",
      "source": [
        "df_test.head()"
      ],
      "outputs": [],
      "execution_count": null,
      "metadata": {
        "colab": {},
        "colab_type": "code",
        "id": "ysptBWevdzZz"
      }
    },
    {
      "cell_type": "code",
      "source": [
        "df_mapping.head()"
      ],
      "outputs": [],
      "execution_count": null,
      "metadata": {
        "colab": {},
        "colab_type": "code",
        "id": "2vgjvnlxd2xZ"
      }
    },
    {
      "cell_type": "code",
      "source": [
        "df_match.head()"
      ],
      "outputs": [],
      "execution_count": null,
      "metadata": {
        "colab": {},
        "colab_type": "code",
        "id": "ib2DPqrNd210"
      }
    },
    {
      "cell_type": "code",
      "source": [
        "df_sample.head()"
      ],
      "outputs": [],
      "execution_count": null,
      "metadata": {
        "colab": {},
        "colab_type": "code",
        "id": "DSll_CQgd26V"
      }
    },
    {
      "cell_type": "markdown",
      "source": [
        "## スタジアム\n",
        "##### 文字列で記載されていて鬱陶しいので、人数に置き換える。"
      ],
      "metadata": {
        "colab_type": "text",
        "id": "uCB28E7KmG_P"
      }
    },
    {
      "cell_type": "code",
      "source": [
        "stadium_dic = df_mapping.to_dict()\n",
        "av = sum(stadium_dic[\"capacity\"].values())/len(stadium_dic[\"capacity\"])\n",
        "stadium_dic = df_mapping.to_dict(orient = \"list\")\n",
        "li = []\n",
        "new_di = {}\n",
        "for key,value in zip(stadium_dic[\"stadium\"],stadium_dic[\"capacity\"]):\n",
        "    new_di[key] = value\n",
        "for i in df_train[\"venue\"]:\n",
        "    li.append(new_di[i])\n",
        "df_train.venue = li\n",
        "\n",
        "li = []\n",
        "for i in df_test[\"venue\"]:\n",
        "    li.append(new_di[i])\n",
        "df_test.venue = li"
      ],
      "outputs": [],
      "execution_count": 2,
      "metadata": {
        "colab": {},
        "colab_type": "code",
        "id": "NT9G--wLgH7u"
      }
    },
    {
      "cell_type": "markdown",
      "source": [
        "### 日付\n",
        "#### 利用方法を検討中\n",
        "#### 現在、祝日であればflagを立てるのみ"
      ],
      "metadata": {}
    },
    {
      "cell_type": "code",
      "source": [
        "holiday_dic = df_holiday.to_dict(orient = \"list\")\n",
        "holiday_dic = holiday_dic[\"holiday_date\"]\n",
        "li = []\n",
        "for i in df_train[\"match_date\"]:\n",
        "    if i in holiday_dic:\n",
        "        li.append(1)\n",
        "    else:\n",
        "        li.append(0)\n",
        "df_train[\"holiday_flag\"] = li\n",
        "li = []\n",
        "for i in df_test[\"match_date\"]:\n",
        "    if i in holiday_dic:\n",
        "        li.append(1)\n",
        "    else:\n",
        "        li.append(0)\n",
        "df_test[\"holiday_flag\"] = li"
      ],
      "outputs": [],
      "execution_count": 3,
      "metadata": {
        "colab": {},
        "colab_type": "code",
        "id": "S20ctDuAnghp"
      }
    },
    {
      "cell_type": "code",
      "source": [
        "df_train[\"match_date\"] = [int(i.split(\"-\")[0]) + int(i.split(\"-\")[1])/13 for i in df_train[\"match_date\"]]\n",
        "df_test[\"match_date\"] = [int(i.split(\"-\")[0]) + int(i.split(\"-\")[1])/13 for i in df_test[\"match_date\"]]"
      ],
      "outputs": [],
      "execution_count": 4,
      "metadata": {
        "inputHidden": false,
        "outputHidden": false
      }
    },
    {
      "cell_type": "markdown",
      "source": [
        "### 時刻\n",
        "#### 時刻の分布を確認し、時間毎に分ける"
      ],
      "metadata": {}
    },
    {
      "cell_type": "code",
      "source": [
        "from collections import Counter\n",
        "\n",
        "time = [int(i.split(\":\")[0]) for i in df_train[\"kick_off_time\"]]\n",
        "df_train[\"kick_off_time\"] = time\n",
        "time = [int(i.split(\":\")[0]) for i in df_test[\"kick_off_time\"]]\n",
        "df_test[\"kick_off_time\"] = time"
      ],
      "outputs": [],
      "execution_count": 5,
      "metadata": {
        "inputHidden": false,
        "outputHidden": false
      }
    },
    {
      "cell_type": "markdown",
      "source": [
        "### 天気\n",
        "#### 晴れ＞曇り＞雨なのでラベリングを地震で定義する。"
      ],
      "metadata": {}
    },
    {
      "cell_type": "code",
      "source": [
        "#屋内＞晴＞曇＞霧＞雨＞雪＞雷\n",
        "weather_di = {\"屋\":7,\"晴\":6,\"曇\":5,\"霧\":4,\"雨\":3,\"雪\":2,\"雷\":1}\n",
        "df_train[\"weather\"] = df_train[\"weather\"].fillna(value = \"晴\")\n",
        "df_test[\"weather\"] = df_test[\"weather\"].fillna(value = \"晴\")\n",
        "df_train[\"weather\"] = [weather_di[i[0]] for i in df_train[\"weather\"]]\n",
        "df_test[\"weather\"] = [weather_di[i[0]] for i in df_test[\"weather\"]]"
      ],
      "outputs": [],
      "execution_count": 6,
      "metadata": {
        "inputHidden": false,
        "outputHidden": false
      }
    },
    {
      "cell_type": "markdown",
      "source": [
        "### 気温と湿度"
      ],
      "metadata": {}
    },
    {
      "cell_type": "code",
      "source": [
        "df_train[\"temperature\"] = df_train[\"temperature\"].fillna(value = df_train[\"temperature\"].mean())\n",
        "df_train[\"humidity\"] = df_train[\"humidity\"].fillna(value = df_train[\"humidity\"].mean())\n",
        "df_test[\"temperature\"] = df_test[\"temperature\"].fillna(value = df_test[\"temperature\"].mean())\n",
        "df_test[\"humidity\"] = df_test[\"humidity\"].fillna(value = df_test[\"humidity\"].mean())"
      ],
      "outputs": [],
      "execution_count": 7,
      "metadata": {
        "collapsed": false,
        "outputHidden": false,
        "inputHidden": false
      }
    },
    {
      "cell_type": "markdown",
      "source": [
        "### Section and Round\n",
        "#### 文字列を数値列に変換するだけ"
      ],
      "metadata": {
        "colab_type": "text",
        "id": "5YzSccXKm4P7"
      }
    },
    {
      "cell_type": "code",
      "source": [
        "#Section and round as integer\n",
        "\n",
        "df_train[\"section\"] = [int(i.lstrip(\"第\").rstrip(\"節\")) for i in df_train[\"section\"]]\n",
        "df_test[\"section\"] = [int(i.lstrip(\"第\").rstrip(\"節\")) for i in df_test[\"section\"]]\n",
        "df_train[\"round\"] = [int(i.lstrip(\"第\").rstrip(\"日\")) for i in df_train[\"round\"]]\n",
        "df_test[\"round\"] = [int(i.lstrip(\"第\").rstrip(\"日\")) for i in df_test[\"round\"]]"
      ],
      "outputs": [],
      "execution_count": 8,
      "metadata": {
        "colab": {},
        "colab_type": "code",
        "id": "LC0qgJx6rV7v"
      }
    },
    {
      "cell_type": "markdown",
      "source": [
        "### Home team and Away team\n",
        "#### ラベルエンコーディングを行うのみ"
      ],
      "metadata": {}
    },
    {
      "cell_type": "code",
      "source": [
        "#dirty data : Transform hankaku -> zenkaku\n",
        "import jaconv\n",
        "df_train[\"home_team\"] = [jaconv.h2z(i) for i in df_train[\"home_team\"]]\n",
        "df_train[\"away_team\"] = [jaconv.h2z(i) for i in df_train[\"away_team\"]]\n",
        "df_test[\"home_team\"] = [jaconv.h2z(i) for i in df_test[\"home_team\"]]\n",
        "df_test[\"away_team\"] = [jaconv.h2z(i) for i in df_test[\"away_team\"]]"
      ],
      "outputs": [],
      "execution_count": 9,
      "metadata": {
        "inputHidden": false,
        "outputHidden": false
      }
    },
    {
      "cell_type": "code",
      "source": [
        "temp = list(df_train[\"home_team\"].to_dict().values())\n",
        "temp2 = list(df_train[\"away_team\"].to_dict().values())\n",
        "temp3 = list(df_test[\"home_team\"].to_dict().values())\n",
        "temp4 = list(df_test[\"away_team\"].to_dict().values())\n",
        "temp.extend(temp2)\n",
        "temp.extend(temp3)\n",
        "temp.extend(temp4)\n",
        "temp = set(temp)\n",
        "counter = 0\n",
        "team_di = {}\n",
        "for i in temp:\n",
        "    if i in team_di.values():\n",
        "        pass\n",
        "    else:\n",
        "        team_di[i] = counter\n",
        "        counter+=1\n",
        "df_test[\"away_team\"] = [team_di[i] for i in df_test[\"away_team\"]]\n",
        "df_test[\"home_team\"] = [team_di[i] for i in df_test[\"home_team\"]]\n",
        "df_train[\"away_team\"] = [team_di[i] for i in df_train[\"away_team\"]]\n",
        "df_train[\"home_team\"] = [team_di[i] for i in df_train[\"home_team\"]]"
      ],
      "outputs": [],
      "execution_count": 10,
      "metadata": {
        "colab": {},
        "colab_type": "code",
        "id": "vARoTBZCuE_A"
      }
    },
    {
      "cell_type": "markdown",
      "source": [
        "### 試合情報\n",
        "#### 利用方法検討中\n"
      ],
      "metadata": {}
    },
    {
      "cell_type": "code",
      "source": [
        "\"\"\"\n",
        "import re\n",
        "df_match[\"home_team_player1\"] = [re.sub(\"[0-9]+| |[A-Z]\",\"\",i) for i in df_match[\"home_team_player1\"]]\n",
        "df_match[\"home_team_player2\"] = [re.sub(\"[0-9]+| |[A-Z]\",\"\",i) for i in df_match[\"home_team_player2\"]]\n",
        "df_match[\"home_team_player3\"] = [re.sub(\"[0-9]+| |[A-Z]\",\"\",i) for i in df_match[\"home_team_player3\"]]\n",
        "df_match[\"home_team_player4\"] = [re.sub(\"[0-9]+| |[A-Z]\",\"\",i) for i in df_match[\"home_team_player4\"]]\n",
        "df_match[\"home_team_player5\"] = [re.sub(\"[0-9]+| |[A-Z]\",\"\",i) for i in df_match[\"home_team_player5\"]]\n",
        "df_match[\"home_team_player6\"] = [re.sub(\"[0-9]+| |[A-Z]\",\"\",i) for i in df_match[\"home_team_player6\"]]\n",
        "df_match[\"home_team_player7\"] = [re.sub(\"[0-9]+| |[A-Z]\",\"\",i) for i in df_match[\"home_team_player7\"]]\n",
        "df_match[\"home_team_player8\"] = [re.sub(\"[0-9]+| |[A-Z]\",\"\",i) for i in df_match[\"home_team_player8\"]]\n",
        "df_match[\"home_team_player9\"] = [re.sub(\"[0-9]+| |[A-Z]\",\"\",i) for i in df_match[\"home_team_player9\"]]\n",
        "df_match[\"home_team_player10\"] = [re.sub(\"[0-9]+| |[A-Z]\",\"\",i) for i in df_match[\"home_team_player10\"]]\n",
        "df_match[\"home_team_player11\"] = [re.sub(\"[0-9]+| |[A-Z]\",\"\",i) for i in df_match[\"home_team_player11\"]]\n",
        "df_match[\"away_team_player1\"] = [re.sub(\"[0-9]+| |[A-Z]\",\"\",i) for i in df_match[\"away_team_player1\"]]\n",
        "df_match[\"away_team_player2\"] = [re.sub(\"[0-9]+| |[A-Z]\",\"\",i) for i in df_match[\"away_team_player2\"]]\n",
        "df_match[\"away_team_player3\"] = [re.sub(\"[0-9]+| |[A-Z]\",\"\",i) for i in df_match[\"away_team_player3\"]]\n",
        "df_match[\"away_team_player4\"] = [re.sub(\"[0-9]+| |[A-Z]\",\"\",i) for i in df_match[\"away_team_player4\"]]\n",
        "df_match[\"away_team_player5\"] = [re.sub(\"[0-9]+| |[A-Z]\",\"\",i) for i in df_match[\"away_team_player5\"]]\n",
        "df_match[\"away_team_player6\"] = [re.sub(\"[0-9]+| |[A-Z]\",\"\",i) for i in df_match[\"away_team_player6\"]]\n",
        "df_match[\"away_team_player7\"] = [re.sub(\"[0-9]+| |[A-Z]\",\"\",i) for i in df_match[\"away_team_player7\"]]\n",
        "df_match[\"away_team_player8\"] = [re.sub(\"[0-9]+| |[A-Z]\",\"\",i) for i in df_match[\"away_team_player8\"]]\n",
        "df_match[\"away_team_player9\"] = [re.sub(\"[0-9]+| |[A-Z]\",\"\",i) for i in df_match[\"away_team_player9\"]]\n",
        "df_match[\"away_team_player10\"] = [re.sub(\"[0-9]+| |[A-Z]\",\"\",i) for i in df_match[\"away_team_player10\"]]\n",
        "df_match[\"away_team_player11\"] = [re.sub(\"[0-9]+| |[A-Z]\",\"\",i) for i in df_match[\"away_team_player11\"]]\n",
        "\"\"\"\n",
        "mix = df_train.append(df_test)\n",
        "print(df_train.shape)\n",
        "print(df_test.shape)\n",
        "mix[\"score\"] = df_match[\"away_team_score\"] - -df_match[\"home_team_score\"]\n",
        "mix[\"away_score\"] = df_match[\"away_team_score\"]\n",
        "mix[\"home_score\"] = df_match[\"home_team_score\"]\n",
        "df_train = mix[:df_train.shape[0]]\n",
        "df_test = mix[df_train.shape[0]:]\n",
        "print(df_train.shape)\n",
        "print(df_test.shape)\n",
        "\n"
      ],
      "outputs": [
        {
          "output_type": "stream",
          "name": "stdout",
          "text": [
            "(3366, 14)\n",
            "(477, 13)\n",
            "(3366, 17)\n",
            "(477, 17)\n"
          ]
        },
        {
          "output_type": "stream",
          "name": "stderr",
          "text": [
            "/usr/local/lib/python3.6/site-packages/pandas/core/frame.py:6201: FutureWarning: Sorting because non-concatenation axis is not aligned. A future version\n",
            "of pandas will change to not sort by default.\n",
            "\n",
            "To accept the future behavior, pass 'sort=True'.\n",
            "\n",
            "To retain the current behavior and silence the warning, pass sort=False\n",
            "\n",
            "  sort=sort)\n"
          ]
        }
      ],
      "execution_count": 11,
      "metadata": {
        "colab": {},
        "colab_type": "code",
        "id": "icUyVpQ6v6nK"
      }
    },
    {
      "cell_type": "markdown",
      "source": [
        "### BroadCaster"
      ],
      "metadata": {}
    },
    {
      "cell_type": "code",
      "source": [
        "def func(series):\n",
        "    li = []\n",
        "    for i in series:\n",
        "        if \"DAZN\" in i:\n",
        "            li.append(1)\n",
        "        elif \"J SPORTS\" in i:\n",
        "            li.append(2)\n",
        "        elif \"e2\" in i:\n",
        "            li.append(3)\n",
        "        elif \"プレミアムサービス\" in i:\n",
        "            li.append(4)\n",
        "        else:\n",
        "            li.append(5)\n",
        "    return li"
      ],
      "outputs": [],
      "execution_count": 12,
      "metadata": {
        "colab": {},
        "colab_type": "code",
        "id": "SkJq-AWxfmf1"
      }
    },
    {
      "cell_type": "code",
      "source": [
        "df_train[\"broadcasters\"] = func(df_train[\"broadcasters\"])\n",
        "df_test[\"broadcasters\"] = func(df_test[\"broadcasters\"])"
      ],
      "outputs": [
        {
          "output_type": "stream",
          "name": "stderr",
          "text": [
            "/usr/local/lib/python3.6/site-packages/ipykernel_launcher.py:1: SettingWithCopyWarning: \n",
            "A value is trying to be set on a copy of a slice from a DataFrame.\n",
            "Try using .loc[row_indexer,col_indexer] = value instead\n",
            "\n",
            "See the caveats in the documentation: http://pandas.pydata.org/pandas-docs/stable/indexing.html#indexing-view-versus-copy\n",
            "  \"\"\"Entry point for launching an IPython kernel.\n",
            "/usr/local/lib/python3.6/site-packages/ipykernel_launcher.py:2: SettingWithCopyWarning: \n",
            "A value is trying to be set on a copy of a slice from a DataFrame.\n",
            "Try using .loc[row_indexer,col_indexer] = value instead\n",
            "\n",
            "See the caveats in the documentation: http://pandas.pydata.org/pandas-docs/stable/indexing.html#indexing-view-versus-copy\n",
            "  \n"
          ]
        }
      ],
      "execution_count": 13,
      "metadata": {
        "inputHidden": false,
        "outputHidden": false
      }
    },
    {
      "cell_type": "markdown",
      "source": [
        "Attendanceが今回予想したい数値。\n",
        "各説明変数との相関を確認する。"
      ],
      "metadata": {
        "colab_type": "text",
        "id": "pDxjQ6eOfPkR"
      }
    },
    {
      "cell_type": "code",
      "source": [
        "df_test"
      ],
      "outputs": [],
      "execution_count": null,
      "metadata": {
        "colab": {},
        "colab_type": "code",
        "id": "diQzQ52qfOUw"
      }
    },
    {
      "cell_type": "markdown",
      "source": [
        "### XGBoost\n",
        "#### TODO: Parameter tuning"
      ],
      "metadata": {
        "colab_type": "text",
        "id": "BOjtOX8ufOyI"
      }
    },
    {
      "cell_type": "code",
      "source": [
        "#DROP ID FOR BOTH TRAINGIN AND TEST\n",
        "\n",
        "Y_train = df_train[\"attendance\"]\n",
        "X_train = df_train.drop(columns = [\"attendance\",\"id\"])\n",
        "X_test = df_test.drop(columns= [\"attendance\",\"id\"])"
      ],
      "outputs": [],
      "execution_count": 14,
      "metadata": {}
    },
    {
      "cell_type": "code",
      "source": [
        "from xgboost import XGBRegressor\n",
        "from sklearn.model_selection import GridSearchCV\n",
        "from sklearn.model_selection import train_test_split\n",
        "from sklearn.metrics import mean_squared_error,make_scorer\n",
        "mod = XGBRegressor()"
      ],
      "outputs": [],
      "execution_count": null,
      "metadata": {
        "colab": {},
        "colab_type": "code",
        "id": "DAvRvtBL099P"
      }
    },
    {
      "cell_type": "code",
      "source": [
        "params = {\"learning_rate\":[0.1,0.3,0.5],\n",
        "        \"max_depth\": [2,3,5,10],\n",
        "         \"subsample\":[0.5,0.8,0.9,1],\n",
        "         \"colsample_bytree\": [0.5,1.0],\n",
        "         }\n",
        "# モデルにインスタンス生成\n",
        "model = XGBRegressor()\n",
        "# ハイパーパラメータ探索\n",
        "cv = GridSearchCV(mod, params, cv = 10, scoring= 'neg_mean_squared_error', n_jobs =-1)"
      ],
      "outputs": [],
      "execution_count": null,
      "metadata": {
        "colab": {},
        "colab_type": "code",
        "id": "7UalTDi_yGxI"
      }
    },
    {
      "cell_type": "code",
      "source": [
        "cv.fit(X_train,Y_train)"
      ],
      "outputs": [],
      "execution_count": null,
      "metadata": {
        "inputHidden": false,
        "outputHidden": false
      }
    },
    {
      "cell_type": "code",
      "source": [
        "Y_test = cv.predict(X_test)"
      ],
      "outputs": [],
      "execution_count": null,
      "metadata": {
        "colab": {},
        "colab_type": "code",
        "id": "BXlhN0xR09RP"
      }
    },
    {
      "cell_type": "code",
      "source": [
        "#Remember that the first id 19075 is 39284 \n",
        "X_test = pd.read_csv(\"./test.csv\")\n",
        "submission = pd.DataFrame({\"id\":X_test[\"id\"],\"attendance\":Y_test})\n",
        "submission.to_csv(\"./outXGBoost.csv\",index=False)"
      ],
      "outputs": [],
      "execution_count": null,
      "metadata": {
        "colab": {},
        "colab_type": "code",
        "id": "kwXEuYHn1sfm"
      }
    },
    {
      "cell_type": "markdown",
      "source": [
        "### PyTorchを用いたLinearRegressionモデル"
      ],
      "metadata": {}
    },
    {
      "cell_type": "code",
      "source": [
        "import torch\n",
        "from torch.autograd import Variable\n",
        "from torch import nn\n",
        "import torch.nn.functional as F"
      ],
      "outputs": [],
      "execution_count": 15,
      "metadata": {
        "inputHidden": false,
        "outputHidden": false
      }
    },
    {
      "cell_type": "code",
      "source": [
        "X_test = Variable(torch.tensor(X_test.values)).float()\n",
        "X_train = Variable(torch.tensor(X_train.values)).float()\n",
        "Y_train = Variable(torch.tensor(Y_train.values)).float()"
      ],
      "outputs": [
        {
          "output_type": "stream",
          "name": "stdout",
          "text": [
            "torch.Size([3366, 15])\n",
            "torch.Size([477, 15])\n"
          ]
        }
      ],
      "execution_count": 16,
      "metadata": {
        "collapsed": false,
        "outputHidden": false,
        "inputHidden": false
      }
    },
    {
      "cell_type": "code",
      "source": [
        "class Linear(nn.Module):\n",
        "    def __init__(self,i_dim):\n",
        "        super(Linear,self).__init__()\n",
        "        self.linear1 = nn.Linear(i_dim,200)\n",
        "        self.linear2 = nn.Linear(200,100)\n",
        "        self.linear3 = nn.Linear(100,50)\n",
        "        self.linear4 = nn.Linear(50,10)\n",
        "        self.linear5 = nn.Linear(10,1)\n",
        "    def forward(self,i):\n",
        "        i = self.linear1(i)\n",
        "        i = self.linear2(i)\n",
        "        i = self.linear3(i)\n",
        "        i = self.linear4(i)\n",
        "        i = self.linear5(i)\n",
        "        return i\n",
        "model = Linear(X_train.shape[1])"
      ],
      "outputs": [],
      "execution_count": 17,
      "metadata": {
        "inputHidden": false,
        "outputHidden": false
      }
    },
    {
      "cell_type": "code",
      "source": [
        "epochs = 10000\n",
        "lr = 0.001\n",
        "\n",
        "criterion = nn.MSELoss()\n",
        "optimizer = torch.optim.Adam(params=model.parameters(),lr =lr)"
      ],
      "outputs": [],
      "execution_count": 18,
      "metadata": {}
    },
    {
      "cell_type": "code",
      "source": [
        "for epoch in range(epochs):\n",
        "    optimizer.zero_grad()\n",
        "    out = model(X_train)\n",
        "    loss = criterion(out.squeeze(),Y_train)\n",
        "    loss.backward()\n",
        "    optimizer.step()\n",
        "    if(epoch % 100 == 0):\n",
        "        print(\"epoch : \" + str(epoch)+ \" \" + str(loss.item()))  "
      ],
      "outputs": [
        {
          "output_type": "stream",
          "name": "stdout",
          "text": [
            "epoch : 0 464528256.0\n",
            "epoch : 100 49927300.0\n",
            "epoch : 200 46820316.0\n",
            "epoch : 300 46072332.0\n",
            "epoch : 400 46039520.0\n",
            "epoch : 500 46005780.0\n",
            "epoch : 600 45969380.0\n",
            "epoch : 700 45927852.0\n",
            "epoch : 800 45877720.0\n",
            "epoch : 900 45810904.0\n",
            "epoch : 1000 45707232.0\n",
            "epoch : 1100 45552552.0\n",
            "epoch : 1200 45733856.0\n",
            "epoch : 1300 46263088.0\n",
            "epoch : 1400 45098852.0\n",
            "epoch : 1500 45056812.0\n",
            "epoch : 1600 44979000.0\n",
            "epoch : 1700 45009900.0\n",
            "epoch : 1800 44960856.0\n",
            "epoch : 1900 44934424.0\n",
            "epoch : 2000 44922484.0\n",
            "epoch : 2100 44915964.0\n",
            "epoch : 2200 44935496.0\n",
            "epoch : 2300 44911824.0\n",
            "epoch : 2400 44905944.0\n",
            "epoch : 2500 44902552.0\n",
            "epoch : 2600 44941644.0\n",
            "epoch : 2700 44899988.0\n",
            "epoch : 2800 44896208.0\n",
            "epoch : 2900 44893692.0\n",
            "epoch : 3000 44902184.0\n",
            "epoch : 3100 44891232.0\n",
            "epoch : 3200 44888652.0\n",
            "epoch : 3300 46715340.0\n",
            "epoch : 3400 44888124.0\n",
            "epoch : 3500 44884240.0\n",
            "epoch : 3600 44882148.0\n",
            "epoch : 3700 44909304.0\n",
            "epoch : 3800 44880380.0\n",
            "epoch : 3900 44877912.0\n",
            "epoch : 4000 44879696.0\n",
            "epoch : 4100 44877384.0\n",
            "epoch : 4200 44873584.0\n",
            "epoch : 4300 44871712.0\n",
            "epoch : 4400 44876856.0\n",
            "epoch : 4500 44869476.0\n",
            "epoch : 4600 44867452.0\n",
            "epoch : 4700 44874740.0\n",
            "epoch : 4800 44865696.0\n",
            "epoch : 4900 44863216.0\n",
            "epoch : 5000 44861824.0\n",
            "epoch : 5100 44862644.0\n",
            "epoch : 5200 44858936.0\n",
            "epoch : 5300 44857164.0\n",
            "epoch : 5400 44859956.0\n",
            "epoch : 5500 44854688.0\n",
            "epoch : 5600 44852788.0\n",
            "epoch : 5700 44865832.0\n",
            "epoch : 5800 44850192.0\n",
            "epoch : 5900 44848168.0\n",
            "epoch : 6000 44860632.0\n",
            "epoch : 6100 44845676.0\n",
            "epoch : 6200 44843636.0\n",
            "epoch : 6300 44877912.0\n",
            "epoch : 6400 44840852.0\n",
            "epoch : 6500 44838724.0\n",
            "epoch : 6600 44842904.0\n",
            "epoch : 6700 44835896.0\n",
            "epoch : 6800 44833776.0\n",
            "epoch : 6900 44836312.0\n",
            "epoch : 7000 44830960.0\n",
            "epoch : 7100 44828780.0\n",
            "epoch : 7200 44829784.0\n",
            "epoch : 7300 44825740.0\n",
            "epoch : 7400 44849088.0\n",
            "epoch : 7500 44823428.0\n",
            "epoch : 7600 44820504.0\n",
            "epoch : 7700 44970292.0\n",
            "epoch : 7800 44817244.0\n",
            "epoch : 7900 44814864.0\n",
            "epoch : 8000 44815496.0\n",
            "epoch : 8100 44811400.0\n",
            "epoch : 8200 44882212.0\n",
            "epoch : 8300 44807900.0\n",
            "epoch : 8400 44825004.0\n",
            "epoch : 8500 44804288.0\n",
            "epoch : 8600 44801528.0\n",
            "epoch : 8700 44801260.0\n",
            "epoch : 8800 44797668.0\n",
            "epoch : 8900 44796396.0\n",
            "epoch : 9000 44793488.0\n",
            "epoch : 9100 44793300.0\n",
            "epoch : 9200 44793640.0\n",
            "epoch : 9300 44787948.0\n",
            "epoch : 9400 44785148.0\n",
            "epoch : 9500 44784808.0\n",
            "epoch : 9600 44792080.0\n",
            "epoch : 9700 44779172.0\n",
            "epoch : 9800 44783492.0\n",
            "epoch : 9900 44867972.0\n"
          ]
        }
      ],
      "execution_count": 19,
      "metadata": {
        "inputHidden": false,
        "outputHidden": false
      }
    },
    {
      "cell_type": "code",
      "source": [
        "prediction = model(X_test)\n",
        "prediction = [i[0] for i in prediction.detach().numpy()]"
      ],
      "outputs": [
        {
          "output_type": "stream",
          "name": "stdout",
          "text": [
            "torch.Size([477, 1])\n"
          ]
        }
      ],
      "execution_count": 20,
      "metadata": {
        "inputHidden": false,
        "outputHidden": false
      }
    },
    {
      "cell_type": "code",
      "source": [
        "X_test = pd.read_csv(\"test.csv\")\n",
        "submission = pd.DataFrame({\"id\":X_test[\"id\"],\"id2\":prediction})\n",
        "submission.to_csv(\"./outTorch.csv\",index=False)"
      ],
      "outputs": [],
      "execution_count": 23,
      "metadata": {
        "collapsed": false,
        "outputHidden": false,
        "inputHidden": false
      }
    }
  ],
  "metadata": {
    "colab": {
      "name": "sig.ipynb",
      "provenance": [],
      "version": "0.3.2"
    },
    "accelerator": "GPU",
    "kernel_info": {
      "name": "python3"
    },
    "latex_envs": {
      "report_style_numbering": false,
      "hotkeys": {
        "equation": "Ctrl-E",
        "itemize": "Ctrl-I"
      },
      "LaTeX_envs_menu_present": true,
      "autocomplete": true,
      "autoclose": false,
      "eqNumInitial": 1,
      "bibliofile": "biblio.bib",
      "latex_user_defs": false,
      "current_citInitial": 1,
      "eqLabelWithNumbers": true,
      "labels_anchors": false,
      "cite_by": "apalike",
      "user_envs_cfg": false
    },
    "language_info": {
      "name": "python",
      "version": "3.6.5",
      "mimetype": "text/x-python",
      "codemirror_mode": {
        "name": "ipython",
        "version": 3
      },
      "pygments_lexer": "ipython3",
      "nbconvert_exporter": "python",
      "file_extension": ".py"
    },
    "gist_id": "c1495eb15ca07de3be4f1be0f5c78d5d",
    "kernelspec": {
      "name": "python3",
      "language": "python",
      "display_name": "Python 3"
    },
    "nteract": {
      "version": "0.11.7"
    }
  },
  "nbformat": 4,
  "nbformat_minor": 1
}