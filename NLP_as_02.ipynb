{
  "cells": [
    {
      "cell_type": "markdown",
      "source": [
        "CONLL2000のデータ (https://www.clips.uantwerpen.be/conll2000/chunking/train.txt.gz)をダウンロードし，Baseline (最頻の品詞を割りあてる方法)を実装し，POS taggingの精度を評価。\n",
        "\n",
        "精度を計算する際には，交差検定法 (cross-validation)を使い，品詞の頻度を計算するための訓練データと精度を計算するための評価データを分けてください。\n",
        "\n評価結果について各自考察してレポートにまとめる。"
      ],
      "metadata": {}
    },
    {
      "cell_type": "code",
      "source": [
        "import os\n",
        "import pandas as pd\n",
        "import sklearn\n",
        "from collections import Counter\n",
        "from sklearn import preprocessing\n",
        "from sklearn import cross_validation\n",
        "from sklearn.model_selection import cross_val_score\n",
        "from sklearn.base import BaseEstimator\n",
        "from tqdm import tqdm"
      ],
      "outputs": [],
      "execution_count": 44,
      "metadata": {
        "collapsed": false,
        "outputHidden": false,
        "inputHidden": false
      }
    },
    {
      "cell_type": "code",
      "source": [
        "#loading data\n",
        "os.system(\"wget https://www.clips.uantwerpen.be/conll2000/chunking/train.txt.gz\")\n",
        "os.system(\"gunzip train.txt.gz\")"
      ],
      "outputs": [],
      "execution_count": null,
      "metadata": {
        "collapsed": false,
        "outputHidden": false,
        "inputHidden": false
      }
    },
    {
      "cell_type": "code",
      "source": [
        "df = pd.read_csv(\"train.txt\",sep=\" \",names= [\"word\",\"POS\",\"boundary\"])\n",
        "df.head()"
      ],
      "outputs": [
        {
          "output_type": "execute_result",
          "execution_count": 45,
          "data": {
            "text/plain": [
              "         word  POS boundary\n",
              "0  Confidence   NN     B-NP\n",
              "1          in   IN     B-PP\n",
              "2         the   DT     B-NP\n",
              "3       pound   NN     I-NP\n",
              "4          is  VBZ     B-VP"
            ],
            "text/html": [
              "<div>\n",
              "<style scoped>\n",
              "    .dataframe tbody tr th:only-of-type {\n",
              "        vertical-align: middle;\n",
              "    }\n",
              "\n",
              "    .dataframe tbody tr th {\n",
              "        vertical-align: top;\n",
              "    }\n",
              "\n",
              "    .dataframe thead th {\n",
              "        text-align: right;\n",
              "    }\n",
              "</style>\n",
              "<table border=\"1\" class=\"dataframe\">\n",
              "  <thead>\n",
              "    <tr style=\"text-align: right;\">\n",
              "      <th></th>\n",
              "      <th>word</th>\n",
              "      <th>POS</th>\n",
              "      <th>boundary</th>\n",
              "    </tr>\n",
              "  </thead>\n",
              "  <tbody>\n",
              "    <tr>\n",
              "      <th>0</th>\n",
              "      <td>Confidence</td>\n",
              "      <td>NN</td>\n",
              "      <td>B-NP</td>\n",
              "    </tr>\n",
              "    <tr>\n",
              "      <th>1</th>\n",
              "      <td>in</td>\n",
              "      <td>IN</td>\n",
              "      <td>B-PP</td>\n",
              "    </tr>\n",
              "    <tr>\n",
              "      <th>2</th>\n",
              "      <td>the</td>\n",
              "      <td>DT</td>\n",
              "      <td>B-NP</td>\n",
              "    </tr>\n",
              "    <tr>\n",
              "      <th>3</th>\n",
              "      <td>pound</td>\n",
              "      <td>NN</td>\n",
              "      <td>I-NP</td>\n",
              "    </tr>\n",
              "    <tr>\n",
              "      <th>4</th>\n",
              "      <td>is</td>\n",
              "      <td>VBZ</td>\n",
              "      <td>B-VP</td>\n",
              "    </tr>\n",
              "  </tbody>\n",
              "</table>\n",
              "</div>"
            ]
          },
          "metadata": {}
        }
      ],
      "execution_count": 45,
      "metadata": {
        "collapsed": false,
        "outputHidden": false,
        "inputHidden": false
      }
    },
    {
      "cell_type": "code",
      "source": [
        "#The boundary columns will not be used\n",
        "df = df.drop(columns=\"boundary\")\n",
        "print(df.shape)\n",
        "df.head()"
      ],
      "outputs": [
        {
          "output_type": "stream",
          "name": "stdout",
          "text": [
            "(211727, 2)\n"
          ]
        },
        {
          "output_type": "execute_result",
          "execution_count": 46,
          "data": {
            "text/plain": [
              "         word  POS\n",
              "0  Confidence   NN\n",
              "1          in   IN\n",
              "2         the   DT\n",
              "3       pound   NN\n",
              "4          is  VBZ"
            ],
            "text/html": [
              "<div>\n",
              "<style scoped>\n",
              "    .dataframe tbody tr th:only-of-type {\n",
              "        vertical-align: middle;\n",
              "    }\n",
              "\n",
              "    .dataframe tbody tr th {\n",
              "        vertical-align: top;\n",
              "    }\n",
              "\n",
              "    .dataframe thead th {\n",
              "        text-align: right;\n",
              "    }\n",
              "</style>\n",
              "<table border=\"1\" class=\"dataframe\">\n",
              "  <thead>\n",
              "    <tr style=\"text-align: right;\">\n",
              "      <th></th>\n",
              "      <th>word</th>\n",
              "      <th>POS</th>\n",
              "    </tr>\n",
              "  </thead>\n",
              "  <tbody>\n",
              "    <tr>\n",
              "      <th>0</th>\n",
              "      <td>Confidence</td>\n",
              "      <td>NN</td>\n",
              "    </tr>\n",
              "    <tr>\n",
              "      <th>1</th>\n",
              "      <td>in</td>\n",
              "      <td>IN</td>\n",
              "    </tr>\n",
              "    <tr>\n",
              "      <th>2</th>\n",
              "      <td>the</td>\n",
              "      <td>DT</td>\n",
              "    </tr>\n",
              "    <tr>\n",
              "      <th>3</th>\n",
              "      <td>pound</td>\n",
              "      <td>NN</td>\n",
              "    </tr>\n",
              "    <tr>\n",
              "      <th>4</th>\n",
              "      <td>is</td>\n",
              "      <td>VBZ</td>\n",
              "    </tr>\n",
              "  </tbody>\n",
              "</table>\n",
              "</div>"
            ]
          },
          "metadata": {}
        }
      ],
      "execution_count": 46,
      "metadata": {
        "collapsed": false,
        "outputHidden": false,
        "inputHidden": false
      }
    },
    {
      "cell_type": "markdown",
      "source": [
        "### Baseline from the textbook\n",
        "#### P.207 of \"Language processing with Perl and Prolog\"\n",
        "\n",
        "* Tag each word with its most frequent part of speech\n",
        "* For words that are not found in the training data will be POS tagged as the most frequent POS tag in the corpus"
      ],
      "metadata": {}
    },
    {
      "cell_type": "code",
      "source": [
        "#To use the crossvalidation score function in sklearn\n",
        "#we need to inherit from BaseEstimator\n",
        "class POS(BaseEstimator):\n",
        "    def __init__(self):\n",
        "        pass\n",
        "    def fit(self, x, y):\n",
        "        self.d = {}\n",
        "        new_df = pd.DataFrame({\"word\":x,\"POS\":y})\n",
        "        for word,tag in tqdm(zip(x,y)):\n",
        "            self.d[word] = list(Counter(new_df[new_df[\"word\"] == word][\"POS\"]))[0]\n",
        "        return self \n",
        "\n",
        "    def predict(self, word):\n",
        "        try:\n",
        "            return self.d[word]\n",
        "        except:\n",
        "            return list(Counter(self.d.values()))[0]\n",
        "    def score(self, x, y):\n",
        "        x = x.tolist()\n",
        "        y = y.tolist()\n",
        "        total = 0\n",
        "        for i in tqdm(range(len(y))):\n",
        "            if self.predict(x[i]) == y[i]:\n",
        "                total += 1\n",
        "        return total/len(y)"
      ],
      "outputs": [],
      "execution_count": 47,
      "metadata": {
        "collapsed": false,
        "outputHidden": false,
        "inputHidden": false
      }
    },
    {
      "cell_type": "code",
      "source": [
        "# Simple 5-cross-validation\n",
        "# This takes a lot of time ...\n",
        "POS_tagger = POS()\n",
        "scores = cross_validation.cross_val_score(POS_tagger,df[\"word\"],df[\"POS\"],cv=5)\n",
        "print(\"Validation scores : \",scores)\n",
        "print()\n",
        "print(\"Average score\", sum(scores)/5)"
      ],
      "outputs": [
        {
          "output_type": "stream",
          "name": "stderr",
          "text": [
            "169381it [45:18, 62.31it/s]\n",
            "100%|██████████| 42346/42346 [00:03<00:00, 11341.72it/s]\n",
            "169381it [53:37, 52.65it/s]\n",
            "100%|██████████| 42346/42346 [00:03<00:00, 11109.32it/s]\n",
            "169382it [49:31, 57.01it/s]\n",
            "100%|██████████| 42345/42345 [00:03<00:00, 10920.61it/s]\n",
            "169382it [47:40, 59.22it/s]\n",
            "100%|██████████| 42345/42345 [00:04<00:00, 9888.26it/s] \n",
            "169382it [47:48, 59.05it/s]\n",
            "100%|██████████| 42345/42345 [00:03<00:00, 13324.22it/s]\n"
          ]
        },
        {
          "output_type": "stream",
          "name": "stdout",
          "text": [
            "Validation scores :  [0.87469891 0.88754546 0.88317393 0.88770811 0.89087259]\n",
            "\n",
            "Average score 0.8847998004752966\n"
          ]
        }
      ],
      "execution_count": 48,
      "metadata": {
        "collapsed": false,
        "outputHidden": false,
        "inputHidden": false
      }
    },
    {
      "cell_type": "markdown",
      "source": [
        "### Result analysis\n",
        "\n",
        "#### First the experiment was conducted using only 1000 data. The abvearge accuracy for this experiment was 60~70% (This can be easily be experimented by changing df \\[\"word\"\\] to df\\[\"word\"\\]\\[:1000\\] and same for the df\\[\"POS\"\\]).\n",
        "\n",
        "#### But, after conducting the experiment using the whole data (211727) it can be seen that the mean accuray has changed drastically. (88.4%)\n",
        "\n",
        "#### Increasing the corpus size, increased the accuracy.\n",
        "\n#### Another fact that I was impressed is that this simple model only using the frequency of POS tags for each word, scored accuracy of (88.4%) ."
      ],
      "metadata": {}
    },
    {
      "cell_type": "code",
      "source": [],
      "outputs": [],
      "execution_count": null,
      "metadata": {
        "collapsed": false,
        "outputHidden": false,
        "inputHidden": false
      }
    }
  ],
  "metadata": {
    "kernel_info": {
      "name": "python3"
    },
    "language_info": {
      "name": "python",
      "version": "3.6.5",
      "mimetype": "text/x-python",
      "codemirror_mode": {
        "name": "ipython",
        "version": 3
      },
      "pygments_lexer": "ipython3",
      "nbconvert_exporter": "python",
      "file_extension": ".py"
    },
    "kernelspec": {
      "name": "python3",
      "language": "python",
      "display_name": "Python 3"
    },
    "nteract": {
      "version": "0.11.9"
    }
  },
  "nbformat": 4,
  "nbformat_minor": 4
}